{
 "cells": [
  {
   "cell_type": "markdown",
   "metadata": {
    "collapsed": true
   },
   "source": [
    "# How to install Theano [Ubuntu 16.04 with CUDA 7.5]"
   ]
  },
  {
   "cell_type": "markdown",
   "metadata": {},
   "source": [
    "# Ubuntu Installation Instructions\n",
    "\n",
    "Detailed infomration: http://deeplearning.net/software/theano_versions/0.8.X/install_ubuntu.html\n",
    "\n",
    "# Requirements\n",
    "\n",
    "Python == 2.7* or ( >= 3.3 and < 3.6 )\n",
    "> The development package (python-dev or python-devel on most Linux distributions) is recommended (see just below). Python 2.4 was supported up to and including the release 0.6. Python 2.6 was supported up to and including the release 0.8.2. Python 3 is supported past the 3.3 release.\n",
    "\n",
    "NumPy >= 1.9.1 <= 1.12\n",
    "> Earlier versions could work, but we don’t test it.\n",
    "\n",
    "SciPy >= 0.14 < 0.17.1\n",
    "> Only currently required for sparse matrix and special functions support, but highly recommended. SciPy >=0.8 could work, but earlier versions have known bugs with sparse matrices.\n",
    "\n",
    "BLAS installation (with Level 3 functionality)\n",
    "> Recommended: MKL, which is free through Conda with mkl-service package. Alternatively, we suggest to install OpenBLAS, with the development headers (-dev, -devel, depending on your Linux distribution)\n",
    "\n",
    "\n",
    "# How to install...\n",
    "\n",
    "In the terminal...\n",
    "> sudo apt-get update\n",
    "\n",
    "> sudo apt-get install python-numpy python-scipy python-dev python-pip python-nose g++ libopenblas-dev git\n",
    "\n",
    "> sudo pip install Theano\n",
    "\n",
    "#If you want to use the GPU device in your computer, please download the CUDA 7.5 from the following link:\n",
    "https://developer.nvidia.com/cuda-75-downloads-archive\n",
    "\n",
    "#cuda 7.5 don't support the default g++ version. Install an supported version and make it the default.\n",
    "> sudo apt-get install g++-4.9\n",
    "\n",
    "> sudo update-alternatives --install /usr/bin/gcc gcc /usr/bin/gcc-4.9 20\n",
    "\n",
    "> sudo update-alternatives --install /usr/bin/gcc gcc /usr/bin/gcc-5 10\n",
    "\n",
    "> sudo update-alternatives --install /usr/bin/g++ g++ /usr/bin/g++-4.9 20\n",
    "\n",
    "> sudo update-alternatives --install /usr/bin/g++ g++ /usr/bin/g++-5 10\n",
    "\n",
    "> sudo update-alternatives --install /usr/bin/cc cc /usr/bin/gcc 30\n",
    "\n",
    "> sudo update-alternatives --set cc /usr/bin/gcc\n",
    "\n",
    "> sudo update-alternatives --install /usr/bin/c++ c++ /usr/bin/g++ 30\n",
    "\n",
    "> sudo update-alternatives --set c++ /usr/bin/g++\n"
   ]
  },
  {
   "cell_type": "markdown",
   "metadata": {},
   "source": [
    "# Mac OS Installation Instructions\n",
    "\n",
    "Detailed infomration: http://deeplearning.net/software/theano_versions/0.8.X/install.html#mac-os\n",
    "\n",
    "Python == 2.7* or ( >= 3.3 and < 3.6 )\n",
    "> The conda distribution is highly recommended. Python 2.4 was supported up to and including the release 0.6. Python 2.6 was supported up to and including the release 0.8.2. Python 3 is supported past the 3.3 release.\n",
    "\n",
    "NumPy >= 1.9.1 <= 1.12\n",
    "> Earlier versions could work, but we don’t test it.\n",
    "\n",
    "SciPy >= 0.14 < 0.17.1\n",
    "> Only currently required for sparse matrix and special functions support, but highly recommended. SciPy >=0.8 could work, but earlier versions have known bugs with sparse matrices.\n",
    "\n",
    "BLAS installation (with Level 3 functionality)\n",
    "> Recommended: MKL, which is free through Conda with mkl-service package. Alternatively, we suggest to install OpenBLAS, with the development headers (-dev, -devel, depending on your Linux distribution).        "
   ]
  },
  {
   "cell_type": "markdown",
   "metadata": {
    "collapsed": true
   },
   "source": [
    "# How to install...\n",
    "\n",
    "In the terminal...\n",
    "\n",
    "> sudo easy_install-3.6 numpy scipy matplotlib notebook pandas sympy nose pip g++ git libopenblas\n",
    "\n",
    "> sudo easy_install-3.6 theano\n",
    "\n",
    "#If you want to use the GPU device in your computer, please check the follwing link:\n",
    "http://deeplearning.net/software/theano_versions/0.8.X/install.html#mac-os\n"
   ]
  }
 ],
 "metadata": {
  "kernelspec": {
   "display_name": "Python 3",
   "language": "python",
   "name": "python3"
  },
  "language_info": {
   "codemirror_mode": {
    "name": "ipython",
    "version": 3
   },
   "file_extension": ".py",
   "mimetype": "text/x-python",
   "name": "python",
   "nbconvert_exporter": "python",
   "pygments_lexer": "ipython3",
   "version": "3.6.1"
  }
 },
 "nbformat": 4,
 "nbformat_minor": 2
}
