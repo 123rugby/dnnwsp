{
 "cells": [
  {
   "cell_type": "markdown",
   "metadata": {},
   "source": [
    "# Tensorflow"
   ]
  },
  {
   "cell_type": "markdown",
   "metadata": {},
   "source": [
    "Tensorflow is an open-source software library for Machine Intelligence.\n",
    "- Tensor : The central unit of data in TensorFlow is the tensor. A tensor consists of a set of primitive values shaped into an array of any number of dimensions\n",
    "- Computational graph : a series of TensorFlow operations arranged into a graph of nodes.\n",
    "- You might think of TensorFlow Core programs as consisting of two discrete sections : Building the computational graph & Running the computational graph"
   ]
  },
  {
   "cell_type": "markdown",
   "metadata": {},
   "source": [
    "# How to install Tensorflow (Linux, Mac)"
   ]
  },
  {
   "cell_type": "markdown",
   "metadata": {},
   "source": [
    "## 1. Install "
   ]
  },
  {
   "cell_type": "markdown",
   "metadata": {
    "collapsed": true
   },
   "source": [
    "- This installation guide refers to 'Tensorflow website' https://www.tensorflow.org/install/install_linux\n",
    "\n",
    "\n",
    "\n",
    "There are several ways to install tensorflow : virtualenv / \"native\" pip / Docker / Anaconda\n",
    "\n",
    "But, as they recommend the virtualenv installation, \n",
    "becasue virtualenv is a virtual Python environment isolated from other Python development, incapable of interfering with or being affected by other Python programs on the same machine. \n",
    "During the virtualenv installation process, you will install not only TensorFlow but also all the packages that TensorFlow requires. (This is actually pretty easy.) \n",
    "To start working with TensorFlow, you simply need to \"activate\" the virtual environment. \n",
    "All in all, virtualenv provides a safe and reliable mechanism for installing and running TensorFlow.\n",
    "\n",
    "We will install 'CPU support only' version. If you are insterested in 'GPU support version', please try at home.\n"
   ]
  },
  {
   "cell_type": "markdown",
   "metadata": {},
   "source": [
    "1) Install pip and virtualenv by issuing the following command:\n",
    " - Linux  \n",
    "> sudo apt-get install python-pip python-dev python-virtualenv\n",
    "\n",
    " - Mac OS   \n",
    "<cite> - Start a terminal (a shell). You'll perform all subsequent steps in this shell. </cite>\n",
    "> sudo easy_install pip  \n",
    "> sudo pip install --upgrade virtualenv "
   ]
  },
  {
   "cell_type": "markdown",
   "metadata": {},
   "source": [
    "2) Create a virtualenv environment by issuing the following command:  \n",
    "<cite> - The targetDirectory specifies the top of the virtualenv tree.  \n",
    "Our instructions assume that targetDirectory is ~/tensorflow, but you may choose any directory. </cite>\n",
    " - Linux  \n",
    "> virtualenv --system-site-packages targetDirectory\n",
    " - Mac OS (for Python 3.n)  \n",
    "> virtualenv --system-site-packages -p python3 targetDirectory"
   ]
  },
  {
   "cell_type": "markdown",
   "metadata": {
    "collapsed": true
   },
   "source": [
    "3) Activate the virtualenv environment by issuing one of the following commands:  \n",
    " - Linux / Mac OS   \n",
    " \n",
    "> source ~/tensorflow/bin/activate    # bash, sh, ksh, or zsh  \n",
    "\n",
    "or  \n",
    "> source ~/tensorflow/bin/activate.csh     # csh or tcsh"
   ]
  },
  {
   "cell_type": "markdown",
   "metadata": {},
   "source": [
    "4) Issue the following command to install TensorFlow in the active virtualenv environment :  \n",
    "<cite> The preceding source command should change your prompt from '＄' to '(tensorflow)＄' </cite>  \n",
    " - Linux / Mac OS (for Python 3.n)  \n",
    "> pip3 install --upgrade tensorflow   "
   ]
  },
  {
   "cell_type": "markdown",
   "metadata": {},
   "source": [
    "<cite> ※ If the preceding command fails, perform Step 5. </cite>  \n",
    "\n",
    "5) If Step 4 failed (typically because you invoked a pip version lower than 8.1), install TensorFlow in the active virtualenv environment by issuing a command of the following format:  \n",
    "\n",
    " - Linux  (for python 3.6)  \n",
    "TF_PYTHON_URL for CPU version is  \n",
    "https://storage.googleapis.com/tensorflow/linux/cpu/tensorflow-1.1.0-cp36-cp36m-linux_x86_64.whl  \n",
    "> pip3 install --upgrade TF_PYTHON_URL\n",
    "\n",
    " - Mac OS (for python 3.4~6)   \n",
    "TF_PYTHON_URL for CPU version is  \n",
    "https://storage.googleapis.com/tensorflow/mac/cpu/tensorflow-1.1.0-py3-none-any.whl  \n",
    "> pip3 install --upgrade TF_PYTHON_URL"
   ]
  },
  {
   "cell_type": "markdown",
   "metadata": {},
   "source": [
    "\n",
    "\n",
    "\n",
    "\n"
   ]
  },
  {
   "cell_type": "markdown",
   "metadata": {
    "collapsed": true
   },
   "source": [
    "## 2. validate the installation, activate & deactivate"
   ]
  },
  {
   "cell_type": "markdown",
   "metadata": {},
   "source": [
    "<cite>  After installing TensorFlow, validate your installation to confirm that the installation worked properly. </cite> "
   ]
  },
  {
   "cell_type": "markdown",
   "metadata": {},
   "source": [
    "1)  activate the virtualenv environment each time you use TensorFlow  \n",
    " - Linux / Mac OS \n",
    "\n",
    "> source ~/tensorflow/bin/activate      # bash, sh, ksh, or zsh  \n",
    "\n",
    "or  \n",
    "> source ~/tensorflow/bin/activate.csh  # csh or tcsh"
   ]
  },
  {
   "cell_type": "markdown",
   "metadata": {},
   "source": [
    "2) Your prompt will become the following to indicate that your tensorflow environment is active:  \n",
    " - Linux / Mac OS  \n",
    "\n",
    "from\n",
    "> ＄\n",
    "\n",
    "to\n",
    "> (tensorflow)＄"
   ]
  },
  {
   "cell_type": "markdown",
   "metadata": {},
   "source": [
    "3) When you are done using TensorFlow, you may deactivate the environment  \n",
    " - Linux / Mac OS\n",
    "> deactivate "
   ]
  },
  {
   "cell_type": "markdown",
   "metadata": {},
   "source": [
    "# How to install python 3.6"
   ]
  },
  {
   "cell_type": "markdown",
   "metadata": {},
   "source": [
    "\n",
    "- Linux  \n",
    "> sudo apt-get update\n",
    "> sudo apt-get install python3 \n",
    "\n",
    "- Mac OS   \n",
    "https://www.python.org/downloads/release/python-361/\n",
    " "
   ]
  },
  {
   "cell_type": "markdown",
   "metadata": {},
   "source": [
    "# How to install numpy, scipy, matplotlib (Linux, Mac)"
   ]
  },
  {
   "cell_type": "markdown",
   "metadata": {},
   "source": [
    "- Linux (Ubuntu & Debian)  \n",
    "> sudo apt-get update\n",
    "> sudo apt-get install python-numpy python-scipy python-matplotlib python-pip python3-tk\n",
    "\n",
    "- Linux (Fedora 22 and later)  \n",
    "> sudo dnf install numpy scipy python-matplotlib\n",
    "\n",
    "- Mac OS  \n",
    "> sudo easy_install-3.6 numpy scipy matplotlib pip"
   ]
  },
  {
   "cell_type": "markdown",
   "metadata": {},
   "source": [
    "# How to install tkinter (Linux, Mac)"
   ]
  },
  {
   "cell_type": "markdown",
   "metadata": {},
   "source": [
    "Tkinter (and, since Python 3.1, ttk) are included with all standard Python distributions. "
   ]
  },
  {
   "cell_type": "code",
   "execution_count": null,
   "metadata": {
    "collapsed": true
   },
   "outputs": [],
   "source": []
  }
 ],
 "metadata": {
  "kernelspec": {
   "display_name": "Python 3",
   "language": "python",
   "name": "python3"
  },
  "language_info": {
   "codemirror_mode": {
    "name": "ipython",
    "version": 3
   },
   "file_extension": ".py",
   "mimetype": "text/x-python",
   "name": "python",
   "nbconvert_exporter": "python",
   "pygments_lexer": "ipython3",
   "version": "3.6.0"
  }
 },
 "nbformat": 4,
 "nbformat_minor": 2
}
