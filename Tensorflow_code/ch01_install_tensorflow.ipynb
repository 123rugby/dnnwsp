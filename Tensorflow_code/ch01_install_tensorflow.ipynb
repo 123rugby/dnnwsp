{
 "cells": [
  {
   "cell_type": "markdown",
   "metadata": {},
   "source": [
    "# Tensorflow overview (ver 1.1.0)"
   ]
  },
  {
   "cell_type": "markdown",
   "metadata": {},
   "source": [
    "TensorFlow is a programming system in which you represent computations as graphs. Nodes in the graph are called ops (short for operations). An op takes zero or more Tensors, performs some computation, and produces zero or more Tensors. A Tensor is a typed multi-dimensional array. \n",
    "  \n",
    "- You might think of TensorFlow Core programs as consisting of two discrete sections   \n",
    ": 1.Building the computational graph & 2.Running the computational graph \n",
    "   \n",
    "   \n",
    "- Computational graph : A series of TensorFlow operations arranged into a graph of nodes. Notice that printing the nodes in the following code does not output the values.   \n",
    "<img style=\"float: left;\" src=\"https://www.tensorflow.org/images/getting_started_add.png\"> <br clear=\"all\" />   \n",
    "\n",
    "> node1 = tf.constant(3.0, tf.float32)   \n",
    "> node2 = tf.constant(4.0, tf.float32)   \n",
    "> node3 = tf.add(node1, node2)      \n",
    "> print([node1, node2])  \n",
    "> print(node3)   \n",
    ">> <cite> Tensor(\"Const_3:0\", shape=(), dtype=float32) Tensor(\"Const_4:0\", shape=(), dtype=float32) </cite>   \n",
    ">> <cite> Tensor(\"Add_2:0\", shape=(), dtype=float32)   </cite>   \n",
    "   \n",
    "   \n",
    "- Session : A session encapsulates the control and state of the TensorFlow runtime. To actually evaluate the node, we must run the computational graph within a session. The following code creates a Session object and then invokes its run method to run enough of the computational graph to evaluate the nodes. \n",
    "> sess = tf.Session()  \n",
    "> print(sess.run([node1, node2])   \n",
    "> print(sess.run(node3))\n",
    ">> <cite>  [3.0, 4.0]  </cite>   \n",
    ">> <cite>  7.0  </cite>\n",
    "   \n",
    "   \n",
    "- Placeholder : A promise to provide a value later. A graph can be parameterized to accept external inputs, known as placeholders. \n",
    "> a = tf.placeholder(tf.float32)  \n",
    "> b = tf.placeholder(tf.float32)  \n",
    "> adder_node = a + b   \n",
    ">   \n",
    "> print(sess.run(adder_node, {a: 3, b:4.5}))  \n",
    "> print(sess.run(adder_node, {a: [1,3], b: [2, 4]}))   \n",
    ">> <cite> 7.5  </cite>   \n",
    ">> <cite> [ 3.  7.] </cite>  \n",
    "   \n",
    "   \n",
    "- Variable : Variables allow us to add trainable parameters to a graph. They are constructed with a type and initial value\n",
    "> W=tf.Variable([.3], tf.float32)   \n",
    "\n",
    "<br/>\n",
    "<br/>\n",
    "<br/>\n",
    "\n",
    "<span style=\"float:right\"> (This refers to https://www.tensorflow.org/get_started/get_started ) </span>\n",
    "\n",
    "<br/>\n",
    "<br/>"
   ]
  },
  {
   "cell_type": "markdown",
   "metadata": {},
   "source": [
    "# How to install Tensorflow (Linux, Mac OS)"
   ]
  },
  {
   "cell_type": "markdown",
   "metadata": {},
   "source": [
    "## 1. Install "
   ]
  },
  {
   "cell_type": "markdown",
   "metadata": {
    "collapsed": true
   },
   "source": [
    "- This installation guide refers to 'Tensorflow website' https://www.tensorflow.org/install/install_linux\n",
    "\n",
    "\n",
    "\n",
    "There are several ways to install tensorflow : virtualenv / \"native\" pip / Docker / Anaconda\n",
    "\n",
    "But, as they recommend the virtualenv installation, \n",
    "becasue virtualenv is a virtual Python environment isolated from other Python development, incapable of interfering with or being affected by other Python programs on the same machine. \n",
    "During the virtualenv installation process, you will install not only TensorFlow but also all the packages that TensorFlow requires. (This is actually pretty easy.) \n",
    "To start working with TensorFlow, you simply need to \"activate\" the virtual environment. \n",
    "All in all, virtualenv provides a safe and reliable mechanism for installing and running TensorFlow.\n",
    "\n",
    "We will install 'CPU support only' version. If you are insterested in 'GPU support version', please try at home.\n"
   ]
  },
  {
   "cell_type": "markdown",
   "metadata": {},
   "source": [
    "1) Install pip and virtualenv by issuing the following command:\n",
    " - Linux  \n",
    "> sudo apt-get install python-pip python-dev python-virtualenv\n",
    "\n",
    " - Mac OS   \n",
    "<cite> - Start a terminal (a shell). You'll perform all subsequent steps in this shell. </cite>\n",
    "> sudo easy_install pip  \n",
    "> sudo pip install --upgrade virtualenv "
   ]
  },
  {
   "cell_type": "markdown",
   "metadata": {},
   "source": [
    "2) Create a virtualenv environment by issuing the following command:  \n",
    "<cite> - The targetDirectory specifies the top of the virtualenv tree.  \n",
    "Our instructions assume that targetDirectory is ~/tensorflow, but you may choose any directory. </cite>\n",
    " - Linux  \n",
    "> virtualenv --system-site-packages targetDirectory\n",
    " - Mac OS (for Python 3.n)  \n",
    "> virtualenv --system-site-packages -p python3 targetDirectory"
   ]
  },
  {
   "cell_type": "markdown",
   "metadata": {
    "collapsed": true
   },
   "source": [
    "3) Activate the virtualenv environment by issuing one of the following commands:  \n",
    " - Linux / Mac OS   \n",
    " \n",
    "> source ~/tensorflow/bin/activate    # bash, sh, ksh, or zsh  \n",
    "\n",
    "or  \n",
    "> source ~/tensorflow/bin/activate.csh     # csh or tcsh"
   ]
  },
  {
   "cell_type": "markdown",
   "metadata": {},
   "source": [
    "4) Issue the following command to install TensorFlow in the active virtualenv environment :  \n",
    "<cite> The preceding source command should change your prompt from '＄' to '(tensorflow)＄' </cite>  \n",
    " - Linux / Mac OS (for Python 3.n)  \n",
    "> pip3 install --upgrade tensorflow   "
   ]
  },
  {
   "cell_type": "markdown",
   "metadata": {},
   "source": [
    "<cite> ※ If the preceding command fails, perform Step 5. </cite>  \n",
    "\n",
    "5) If Step 4 failed (typically because you invoked a pip version lower than 8.1), install TensorFlow in the active virtualenv environment by issuing a command of the following format:  \n",
    "\n",
    " - Linux  (for python 3.6)  \n",
    "TF_PYTHON_URL for CPU version is  \n",
    "https://storage.googleapis.com/tensorflow/linux/cpu/tensorflow-1.1.0-cp36-cp36m-linux_x86_64.whl  \n",
    "> pip3 install --upgrade TF_PYTHON_URL\n",
    "\n",
    " - Mac OS (for python 3.4~6)   \n",
    "TF_PYTHON_URL for CPU version is  \n",
    "https://storage.googleapis.com/tensorflow/mac/cpu/tensorflow-1.1.0-py3-none-any.whl  \n",
    "> pip3 install --upgrade TF_PYTHON_URL"
   ]
  },
  {
   "cell_type": "markdown",
   "metadata": {},
   "source": [
    "\n",
    "\n",
    "\n",
    "\n"
   ]
  },
  {
   "cell_type": "markdown",
   "metadata": {
    "collapsed": true
   },
   "source": [
    "## 2. validate the installation, activate & deactivate"
   ]
  },
  {
   "cell_type": "markdown",
   "metadata": {},
   "source": [
    "<cite>  After installing TensorFlow, validate your installation to confirm that the installation worked properly. </cite> "
   ]
  },
  {
   "cell_type": "markdown",
   "metadata": {},
   "source": [
    "1)  activate the virtualenv environment each time you use TensorFlow  \n",
    " - Linux / Mac OS \n",
    "\n",
    "> source ~/tensorflow/bin/activate      # bash, sh, ksh, or zsh  \n",
    "\n",
    "or  \n",
    "> source ~/tensorflow/bin/activate.csh  # csh or tcsh"
   ]
  },
  {
   "cell_type": "markdown",
   "metadata": {},
   "source": [
    "2) Your prompt will become the following to indicate that your tensorflow environment is active:  \n",
    " - Linux / Mac OS  \n",
    "\n",
    "from\n",
    "> ＄\n",
    "\n",
    "to\n",
    "> (tensorflow)＄"
   ]
  },
  {
   "cell_type": "markdown",
   "metadata": {},
   "source": [
    "3) When you are done using TensorFlow, you may deactivate the environment  \n",
    " - Linux / Mac OS\n",
    "> deactivate "
   ]
  },
  {
   "cell_type": "markdown",
   "metadata": {},
   "source": [
    "# How to install python 3.6"
   ]
  },
  {
   "cell_type": "markdown",
   "metadata": {},
   "source": [
    "\n",
    "- Linux  \n",
    "> sudo apt-get update   \n",
    "> sudo apt-get install python3    \n",
    "\n",
    "- Mac OS   \n",
    "Go to https://www.python.org/downloads/mac-osx/"
   ]
  },
  {
   "cell_type": "markdown",
   "metadata": {},
   "source": [
    "# How to install numpy, scipy, matplotlib (Linux, Mac OS)"
   ]
  },
  {
   "cell_type": "markdown",
   "metadata": {},
   "source": [
    "- Linux (Ubuntu & Debian)  \n",
    "> sudo apt-get update\n",
    "> sudo apt-get install python-numpy python-scipy python-matplotlib python-pip    \n",
    "\n",
    "- Linux (Fedora 22 and later)  \n",
    "> sudo dnf install numpy scipy python-matplotlib   \n",
    "\n",
    "- Mac OS  \n",
    "> sudo easy_install-3.6 numpy scipy matplotlib pip   "
   ]
  },
  {
   "cell_type": "markdown",
   "metadata": {},
   "source": [
    "# How to install tkinter (Linux, Mac OS)"
   ]
  },
  {
   "cell_type": "markdown",
   "metadata": {},
   "source": [
    "Tkinter (and, since Python 3.1, ttk) are included with all standard Python distributions. "
   ]
  },
  {
   "cell_type": "markdown",
   "metadata": {
    "collapsed": true
   },
   "source": [
    "> sudo apt-get python3-tk"
   ]
  },
  {
   "cell_type": "code",
   "execution_count": null,
   "metadata": {
    "collapsed": true
   },
   "outputs": [],
   "source": []
  }
 ],
 "metadata": {
  "kernelspec": {
   "display_name": "Python 3",
   "language": "python",
   "name": "python3"
  },
  "language_info": {
   "codemirror_mode": {
    "name": "ipython",
    "version": 3
   },
   "file_extension": ".py",
   "mimetype": "text/x-python",
   "name": "python",
   "nbconvert_exporter": "python",
   "pygments_lexer": "ipython3",
   "version": "3.6.0"
  }
 },
 "nbformat": 4,
 "nbformat_minor": 2
}
