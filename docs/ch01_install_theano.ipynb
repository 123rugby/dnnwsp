{
 "cells": [
  {
   "cell_type": "markdown",
   "metadata": {
    "collapsed": true
   },
   "source": [
    "# Theano"
   ]
  },
  {
   "cell_type": "markdown",
   "metadata": {
    "collapsed": true
   },
   "source": [
    "Theano is a Python library and optimizing compiler for manipulating and evaluating expressions, especially matrix-valued ones. Manipulation of matrices is typically done using the numpy package, so what does Theano do that Python and numpy do not?\n",
    "\n",
    "* execution speed optimizations: Theano can use g++ or nvcc to compile parts your expression graph into CPU or GPU instructions, which run much faster than pure Python.\n",
    "\n",
    "* symbolic differentiation: Theano can automatically build symbolic graphs for computing gradients (e.g., x^2 -> 2x)."
   ]
  },
  {
   "cell_type": "markdown",
   "metadata": {},
   "source": [
    "### Symbolic differentiation"
   ]
  },
  {
   "cell_type": "code",
   "execution_count": null,
   "metadata": {
    "collapsed": true
   },
   "outputs": [],
   "source": [
    "# Python code in one module gains access to the code in another module by the process of importing it.\n",
    "import numpy\n",
    "import theano\n",
    "import theano.tensor as T # simplification \n",
    "\n",
    "x = T.dscalar('x') # symbolic variable\n",
    "y = x ** 2\n",
    "gy = T.grad(y, x) # calculate gradient\n",
    "\n",
    "f = theano.function([x], gy)\n",
    "f(4)\n",
    "> array(8.0)"
   ]
  },
  {
   "cell_type": "markdown",
   "metadata": {},
   "source": [
    "# How to install Theano "
   ]
  },
  {
   "cell_type": "markdown",
   "metadata": {},
   "source": [
    "## Requirements\n",
    "\n",
    "Python == 2.7* or ( >= 3.3)\n",
    "> The development package (python-dev or python-devel on most Linux distributions) is recommended (see just below). Python 2.4 was supported up to and including the release 0.6. Python 2.6 was supported up to and including the release 0.8.2. Python 3 is supported past the 3.3 release.\n",
    "\n",
    "NumPy >= 1.9.1 <= 1.12\n",
    "> NumPy is the fundamental package for scientific computing with Python. Earlier versions could work, but we don’t test it.\n",
    "\n",
    "SciPy >= 0.14 < 0.17.1\n",
    "> SciPy (pronounced “Sigh Pie”) is a Python-based ecosystem of open-source software for mathematics, science, and engineering. Only currently required for sparse matrix and special functions support, but highly recommended. SciPy >=0.8 could work, but earlier versions have known bugs with sparse matrices.\n",
    "\n",
    "BLAS installation (with Level 3 functionality)\n",
    "> Recommended: MKL, which is free through Conda with mkl-service package. Alternatively, we suggest to install OpenBLAS, with the development headers (-dev, -devel, depending on your Linux distribution)\n",
    "\n",
    "## Installation Python 3.6 in Ubuntu 16.04"
   ]
  },
  {
   "cell_type": "raw",
   "metadata": {},
   "source": [
    "            > sudo add-apt-repository ppa:jonathonf/python-3.6\n",
    "            \n",
    "            > sudo apt-get update\n",
    "            \n",
    "            > sudo apt-get install python3.6"
   ]
  },
  {
   "cell_type": "markdown",
   "metadata": {},
   "source": [
    "## Installing pyenv in Ubuntu 16.04"
   ]
  },
  {
   "cell_type": "raw",
   "metadata": {},
   "source": [
    "> sudo apt-get install git python-pip make build-essential libssl-dev zlib1g-dev libbz2-dev libreadline-dev libsqlite3-dev\n",
    "> sudo pip install virtualenvwrapper\n",
    "> git clone https://github.com/yyuu/pyenv.git ~/.pyenv\n",
    "> git clone https://github.com/yyuu/pyenv-virtualenvwrapper.git ~/.pyenv/plugins/pyenv-virtualenvwrapper"
   ]
  },
  {
   "cell_type": "markdown",
   "metadata": {},
   "source": [
    "Add init lines to your ~/.bash_profile or ~/.bashrc (it mentions it at the end of the install script):"
   ]
  },
  {
   "cell_type": "raw",
   "metadata": {},
   "source": [
    "> echo 'export PYENV_ROOT=\"$HOME/.pyenv\"' >> ~/.bashrc\n",
    "> echo 'export PATH=\"$PYENV_ROOT/bin:$PATH\"' >> ~/.bashrc\n",
    "> echo 'eval \"$(pyenv init -)\"' >> ~/.bashrc"
   ]
  },
  {
   "cell_type": "markdown",
   "metadata": {},
   "source": [
    "Restart your shell to reload the profile script "
   ]
  },
  {
   "cell_type": "raw",
   "metadata": {},
   "source": [
    "> env PYTHON_CONFIGURE_OPTS=\"--enable-shared\" pyenv install 3.6.0 \n",
    "> pyenv global 3.6.0\n",
    "> pip3 install --upgrade https://github.com/Theano/Theano/archive/master.zip"
   ]
  },
  {
   "cell_type": "markdown",
   "metadata": {},
   "source": [
    "## How to install Theano in MAC and CentoOS"
   ]
  },
  {
   "cell_type": "raw",
   "metadata": {},
   "source": [
    "> git clone https://github.com/yyuu/pyenv.git ~/.pyenv\n",
    "> git clone https://github.com/yyuu/pyenv-virtualenvwrapper.git ~/.pyenv/plugins/pyenv-virtualenvwrapper\n",
    "> env PYTHON_CONFIGURE_OPTS=\"--enable-shared\" pyenv install 3.6.0\n",
    "> echo 'export PYENV_ROOT=\"$HOME/.pyenv\"' >> ~/.bashrc\n",
    "> echo 'export PATH=\"$PYENV_ROOT/bin:$PATH\"' >> ~/.bashrc\n",
    "> echo 'eval \"$(pyenv init -)\"' >> ~/.bashrc"
   ]
  },
  {
   "cell_type": "markdown",
   "metadata": {},
   "source": [
    "Restart your shell to reload the profile script. "
   ]
  },
  {
   "cell_type": "raw",
   "metadata": {},
   "source": [
    "> env PYTHON_CONFIGURE_OPTS=\"--enable-shared\" pyenv install 3.6.0 \n",
    "> pyenv global 3.6.0\n",
    "> pip3 install --upgrade https://github.com/Theano/Theano/archive/master.zip"
   ]
  },
  {
   "cell_type": "markdown",
   "metadata": {},
   "source": [
    "### Additional library for neuroal networks in Theano\n",
    "Lasagne is a lightweight library to build and train neural networks in Theano."
   ]
  },
  {
   "cell_type": "raw",
   "metadata": {},
   "source": [
    "> pip3 install --upgrade https://github.com/Lasagne/Lasagne/archive/master.zip"
   ]
  },
  {
   "cell_type": "markdown",
   "metadata": {},
   "source": [
    "## Installation Instructions\n",
    "\n",
    "Ubuntu: http://deeplearning.net/software/theano_versions/0.8.X/install_ubuntu.html\n",
    "\n",
    "Mac: http://deeplearning.net/software/theano_versions/0.8.X/install.html#mac-os\n",
    "\n",
    "CentOS: http://deeplearning.net/software/theano_versions/0.8.X/install_centos6.html#install-centos6\n"
   ]
  }
 ],
 "metadata": {
  "kernelspec": {
   "display_name": "Python 3",
   "language": "python",
   "name": "python3"
  },
  "language_info": {
   "codemirror_mode": {
    "name": "ipython",
    "version": 3
   },
   "file_extension": ".py",
   "mimetype": "text/x-python",
   "name": "python",
   "nbconvert_exporter": "python",
   "pygments_lexer": "ipython3",
   "version": "3.6.1"
  }
 },
 "nbformat": 4,
 "nbformat_minor": 2
}
