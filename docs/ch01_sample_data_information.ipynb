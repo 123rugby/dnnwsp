{
 "cells": [
  {
   "cell_type": "markdown",
   "metadata": {},
   "source": [
    "# Sample data information"
   ]
  },
  {
   "attachments": {},
   "cell_type": "markdown",
   "metadata": {},
   "source": [
    "## Task paradigm of four sensorimotor tasks \n",
    "\n",
    "Participants conducted each of the four sensorimotor tasks including left-hand clenching (attachment:image.png) (LH), right-hand clenching, auditory attention (AD), and visual stimulus (VS) tasks (Jang et al., 2017; Kim et al., 2012). \n",
    "\n",
    "Each functional magnetic resonance imaging (fMRI) run (140 s; 70 volumes; TR = 2 sec) included a rest period (20 s) in the beginning and three blocks of task periods (20 s per block) alternating with a rest period (20 s). \n",
    "\n",
    "* In the LH and RH tasks, participants clenched their left or right hand approximately twice per second.\n",
    "\n",
    "* In the AD task, the participants listened to sounds of 1 kHz during the task period and 900 Hz during the rest period. \n",
    "\n",
    "* In the VS task, the participants watched an alternating black and white checkerboard with 8 Hz during the task period and watched a black screen during the rest period.\n",
    "\n",
    "The 30 task-related fMRI volumes (i.e., 20-s x 3 block = 60-s task-related period across the three task blocks with 2-s TR).\n",
    "\n",
    "A total of 360 fMRI volumes (i.e., 30 volumes/run × 4 runs/subject × 3 subjects) were available across all tasks and all subjects.\n",
    "\n",
    "Download of sample data (http://bspl.korea.ac.kr/lhrhadvs_sample_data.mat)\n",
    "\n In the terminal..."
   ]
  },
  {
   "cell_type": "code",
   "execution_count": null,
   "metadata": {
    "collapsed": true
   },
   "outputs": [],
   "source": [
    "> wget http://bspl.korea.ac.kr/lhrhadvs_sample_data.mat ./"
   ]
  },
  {
   "cell_type": "markdown",
   "metadata": {},
   "source": [
    "References \n",
    "\n",
    "* Jang, H., Plis, S. M., Calhoun, V. D., & Lee, J. H. (2017). Task-specific feature extraction and classification of fMRI volumes using a deep neural network initialized with a deep belief network: Evaluation using sensorimotor tasks. Neuroimage, 145, 314-328.\n",
    "* Kim, Y. H., Kim, J., & Lee, J. H. (2012). Iterative approach of dual regression with a sparse prior enhances the performance of independent component analysis for group functional magnetic resonance imaging (fMRI) data. Neuroimage, 63(4), 1864-1889."
   ]
  },
  {
   "cell_type": "markdown",
   "metadata": {
    "collapsed": true
   },
   "source": [
    "\n",
    "## Parameters\n",
    "\n",
    "Blood-oxygenation-level-dependent (BOLD) fMRI data were acquired using a standard gradient-echo echo-planar imaging pulse sequence:\n",
    "\n",
    "> TR/TE = 2000/30 ms; flip angle = 90°; in-plane voxels = 64 × 64; 36 axial slices; 4 mm slice thickness without a gap; voxel size = 3.75 × 3.75 × 4.0 mm^3) and a 3-T Tim Trio MRI scanner with a 12-channel head coil (Siemens, Erlangen, Germany).\n",
    " \n",
    "  \n",
    "## Preprocessing of BOLD FMRI data\n",
    "\n",
    "The 70 fMRI volumes were preprocessed using the SPM8 software toolbox (www.fil.ion.ucl.ac.uk/spm) with standard options, including slice timing correction, motion correction, spatial normalization to the Montreal Neurological Institute space with a 3-mm isotropic voxel size, and spatial smoothing using an 8-mm full-width at half-maximum Gaussian kernel. \n"
   ]
  },
  {
   "cell_type": "markdown",
   "metadata": {
    "collapsed": true
   },
   "source": [
    "## Percentage of BOLD signal \n",
    "\n",
    "### Defining in-brain mask \n",
    "\n",
    "* The voxels whose BOLD intensities were greater than 20% of the maximum BOLD intensity for each preprocessed fMRI volume were defined as an in-brain mask from the fMRI volume. Then, the in-brain mask that overlapped across all fMRI volumes and all subjects was used to define the final set of input voxels (Kim, J., et al., 2013 ;  Kim, J. and Lee, J.-H., 2013), resulting in a total of 74,484 in-brain voxels. \n",
    "\n",
    "### Estimation of percentage of BOLD signal\n",
    "\n",
    "* The BOLD intensities of the fMRI volumes within a task-related period (i.e., three blocks of 20-s task periods after a 6-s delay from the task onset for each fMRI run) were normalized to percent signal change relative to the average BOLD signal with the 80-s baseline period. \n",
    "\n",
    "* The 30 task-related fMRI volumes (i.e., 20-s x 3 block = 60-s task-related period across the three task blocks with 2-s TR).\n",
    "\n",
    "* A total of 360 fMRI volumes (i.e., 30 volumes/run × 4 runs/subject × 3 subjects) were available across all tasks and all subjects\n"
   ]
  }
 ],
 "metadata": {
  "kernelspec": {
   "display_name": "Python 3",
   "language": "python",
   "name": "python3"
  },
  "language_info": {
   "codemirror_mode": {
    "name": "ipython",
    "version": 3
   },
   "file_extension": ".py",
   "mimetype": "text/x-python",
   "name": "python",
   "nbconvert_exporter": "python",
   "pygments_lexer": "ipython3",
   "version": "3.6.1"
  }
 },
 "nbformat": 4,
 "nbformat_minor": 2
}
