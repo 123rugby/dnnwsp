{
 "cells": [
  {
   "cell_type": "markdown",
   "metadata": {},
   "source": [
    "# Tensorflow overview (ver 1.1.0)"
   ]
  },
  {
   "cell_type": "markdown",
   "metadata": {},
   "source": [
    "## 1. Tensorflow - Characteristics\n",
    "\n",
    "- It has a clean, modular architecture with multiple frontends(interface) and execution platforms. \n",
    "- Since it uses symbolic graph of vector operations approach, specifying a new network is fairly easy.\n",
    "- The graph visualization can help you understand and debug them using TensorBoard. \n",
    "- Though it’s the newest member of the Python deep learning library collection, its community is large because it’s backed by the Google Brain team.\n",
    "-  Users can scale-up and train that model faster on GPUs with no code changes\n",
    "- It has a major weakness in terms of modeling flexibility. Every computational flow has be constructed as a static graph. That makes some computations difficult,"
   ]
  },
  {
   "cell_type": "markdown",
   "metadata": {},
   "source": [
    "## 2. Tensorflow - Basics\n",
    "TensorFlow is a programming system in which you represent computations as graphs. Nodes in the graph are called ops (short for operations). An op takes zero or more Tensors, performs some computation, and produces zero or more Tensors. A Tensor is a typed multi-dimensional array. "
   ]
  },
  {
   "cell_type": "code",
   "execution_count": 1,
   "metadata": {
    "collapsed": false
   },
   "outputs": [],
   "source": [
    "import tensorflow as tf"
   ]
  },
  {
   "cell_type": "markdown",
   "metadata": {},
   "source": [
    "### - You might think of TensorFlow Core programs as consisting of two discrete sections   \n",
    "1.Building the computational graph & 2.Running the computational graph "
   ]
  },
  {
   "cell_type": "markdown",
   "metadata": {},
   "source": [
    "### - Computational graph\n",
    "A computational graph is a series of TensorFlow operations arranged into a graph of nodes. Notice that printing the nodes in the following code does not output the values. "
   ]
  },
  {
   "cell_type": "code",
   "execution_count": 7,
   "metadata": {
    "collapsed": false
   },
   "outputs": [
    {
     "name": "stdout",
     "output_type": "stream",
     "text": [
      "[<tf.Tensor 'Const_2:0' shape=() dtype=float32>, <tf.Tensor 'Const_3:0' shape=() dtype=float32>]\n",
      "Tensor(\"Add_1:0\", shape=(), dtype=float32)\n"
     ]
    }
   ],
   "source": [
    "# example\n",
    "node1 = tf.constant(3.0, tf.float32)   \n",
    "node2 = tf.constant(4.0, tf.float32)   \n",
    "node3 = tf.add(node1, node2)      \n",
    "print([node1, node2])  \n",
    "print(node3)   "
   ]
  },
  {
   "cell_type": "markdown",
   "metadata": {},
   "source": [
    "<img style=\"float: left;\" src=\"https://www.tensorflow.org/images/getting_started_add.png\"> <br clear=\"all\" />  "
   ]
  },
  {
   "cell_type": "markdown",
   "metadata": {},
   "source": [
    "### - Session\n",
    "A session encapsulates the control and state of the TensorFlow runtime. To actually evaluate the node, we must run the computational graph within a session. The following code creates a Session object and then invokes its run method to run enough of the computational graph to evaluate the nodes. "
   ]
  },
  {
   "cell_type": "code",
   "execution_count": 10,
   "metadata": {
    "collapsed": false
   },
   "outputs": [
    {
     "name": "stdout",
     "output_type": "stream",
     "text": [
      "[3.0, 4.0]\n",
      "7.0\n"
     ]
    }
   ],
   "source": [
    "# example\n",
    "sess = tf.Session()\n",
    "print(sess.run([node1, node2]))\n",
    "print(sess.run(node3))"
   ]
  },
  {
   "cell_type": "markdown",
   "metadata": {},
   "source": [
    "### - Placeholder\n",
    "Placeholder is a promise to provide a value later. A graph can be parameterized to accept external inputs, known as placeholders. "
   ]
  },
  {
   "cell_type": "code",
   "execution_count": 11,
   "metadata": {
    "collapsed": false
   },
   "outputs": [
    {
     "name": "stdout",
     "output_type": "stream",
     "text": [
      "7.5\n",
      "[ 3.  7.]\n"
     ]
    }
   ],
   "source": [
    "# example\n",
    "a = tf.placeholder(tf.float32)  \n",
    "b = tf.placeholder(tf.float32)  \n",
    "adder_node = a + b   \n",
    "  \n",
    "print(sess.run(adder_node, {a: 3, b:4.5}))  \n",
    "print(sess.run(adder_node, {a: [1,3], b: [2, 4]}))   "
   ]
  },
  {
   "cell_type": "markdown",
   "metadata": {},
   "source": [
    "### - Variable\n",
    "Variables allow us to add trainable parameters to a graph. They are constructed with a type and initial value"
   ]
  },
  {
   "cell_type": "code",
   "execution_count": 12,
   "metadata": {
    "collapsed": true
   },
   "outputs": [],
   "source": [
    "W=tf.Variable([.3], tf.float32)  "
   ]
  },
  {
   "cell_type": "markdown",
   "metadata": {},
   "source": [
    "<span style=\"float:right\"> (This refers to https://www.tensorflow.org/get_started/get_started , \n",
    "<br/> https://indico.io/blog/python-deep-learning-frameworks-reviewed/ ,\n",
    "<br/> https://github.com/zer0n/deepframeworks/blob/master/README.md  )\n",
    "</span>\n",
    "\n",
    "<br/>\n",
    "<br/>"
   ]
  },
  {
   "cell_type": "code",
   "execution_count": null,
   "metadata": {
    "collapsed": true
   },
   "outputs": [],
   "source": []
  },
  {
   "cell_type": "code",
   "execution_count": null,
   "metadata": {
    "collapsed": true
   },
   "outputs": [],
   "source": []
  },
  {
   "cell_type": "code",
   "execution_count": null,
   "metadata": {
    "collapsed": true
   },
   "outputs": [],
   "source": []
  },
  {
   "cell_type": "markdown",
   "metadata": {},
   "source": [
    "# How to install Tensorflow (Linux, Mac OS)"
   ]
  },
  {
   "cell_type": "markdown",
   "metadata": {},
   "source": [
    "## 1. Install "
   ]
  },
  {
   "cell_type": "markdown",
   "metadata": {
    "collapsed": true
   },
   "source": [
    "- This installation guide refers to Tensorflow website https://www.tensorflow.org/install/install_linux\n",
    "\n",
    "\n",
    "\n",
    "There are several ways to install tensorflow : virtualenv / \"native\" pip / Docker / Anaconda\n",
    "\n",
    "They recommend the virtualenv installation because virtualenv is a virtual Python environment isolated from other Python development, incapable of interfering with or being affected by other Python programs on the same machine. \n",
    "All in all, virtualenv provides a safe and reliable mechanism for installing and running TensorFlow.\n",
    "\n",
    "Also, We will install 'CPU support only' version. If you are insterested in 'GPU support version', please try at home.\n"
   ]
  },
  {
   "cell_type": "markdown",
   "metadata": {},
   "source": [
    "1) Install pip and virtualenv by issuing the following command:\n",
    " - Linux  \n",
    "> sudo apt-get install python-pip python-dev python-virtualenv\n",
    "\n",
    " - Mac OS   \n",
    "<cite> - Start a terminal (a shell). You'll perform all subsequent steps in this shell. </cite>\n",
    "> sudo easy_install pip  \n",
    "> sudo pip install --upgrade virtualenv "
   ]
  },
  {
   "cell_type": "markdown",
   "metadata": {},
   "source": [
    "2) Create a virtualenv environment by issuing the following command:  \n",
    "<cite> - The targetDirectory specifies the top of the virtualenv tree.  \n",
    "Our instructions assume that targetDirectory is ~/tensorflow, but you may choose any directory. </cite>\n",
    " - Linux  \n",
    "> virtualenv --system-site-packages targetDirectory\n",
    " - Mac OS (for Python 3.n)  \n",
    "> virtualenv --system-site-packages -p python3 targetDirectory"
   ]
  },
  {
   "cell_type": "markdown",
   "metadata": {
    "collapsed": true
   },
   "source": [
    "3) Activate the virtualenv environment by issuing one of the following commands:  \n",
    " - Linux / Mac OS   \n",
    " \n",
    "> source ~/tensorflow/bin/activate    # bash, sh, ksh, or zsh  \n",
    "\n",
    "or  \n",
    "> source ~/tensorflow/bin/activate.csh     # csh or tcsh"
   ]
  },
  {
   "cell_type": "markdown",
   "metadata": {},
   "source": [
    "4) Issue the following command to install TensorFlow in the active virtualenv environment :  \n",
    "<cite> The preceding source command should change your prompt from '＄' to '(tensorflow)＄' </cite>  \n",
    " - Linux / Mac OS (for Python 3.n)  \n",
    "> pip3 install --upgrade tensorflow   "
   ]
  },
  {
   "cell_type": "markdown",
   "metadata": {},
   "source": [
    "<cite> ※ If the preceding command fails, perform Step 5. </cite>  \n",
    "\n",
    "5) If Step 4 failed (typically because you invoked a pip version lower than 8.1), install TensorFlow in the active virtualenv environment by issuing a command of the following format:  \n",
    "\n",
    " - Linux  (for python 3.6)  \n",
    "TF_PYTHON_URL for CPU version is  \n",
    "https://storage.googleapis.com/tensorflow/linux/cpu/tensorflow-1.1.0-cp36-cp36m-linux_x86_64.whl  \n",
    "> pip3 install --upgrade TF_PYTHON_URL\n",
    "\n",
    " - Mac OS (for python 3.4~6)   \n",
    "TF_PYTHON_URL for CPU version is  \n",
    "https://storage.googleapis.com/tensorflow/mac/cpu/tensorflow-1.1.0-py3-none-any.whl  \n",
    "> pip3 install --upgrade TF_PYTHON_URL"
   ]
  },
  {
   "cell_type": "markdown",
   "metadata": {},
   "source": [
    "\n",
    "\n",
    "\n",
    "\n"
   ]
  },
  {
   "cell_type": "markdown",
   "metadata": {
    "collapsed": true
   },
   "source": [
    "## 2. validate the installation, activate & deactivate"
   ]
  },
  {
   "cell_type": "markdown",
   "metadata": {},
   "source": [
    "<cite>  After installing TensorFlow, validate your installation to confirm that the installation worked properly. </cite> "
   ]
  },
  {
   "cell_type": "markdown",
   "metadata": {},
   "source": [
    "1)  activate the virtualenv environment each time you use TensorFlow  \n",
    " - Linux / Mac OS \n",
    " \n",
    "bash, sh, ksh, or zsh\n",
    "> source ~/tensorflow/bin/activate   \n",
    "\n",
    "csh or tcsh \n",
    "> source ~/tensorflow/bin/activate.csh "
   ]
  },
  {
   "cell_type": "markdown",
   "metadata": {},
   "source": [
    "2) To start working with TensorFlow, you simply need to \"activate\" the virtual environment. Your prompt will become the following to indicate that your tensorflow environment is active:  \n",
    " - Linux / Mac OS  \n",
    "\n",
    "from\n",
    "> ＄\n",
    "\n",
    "to\n",
    "> (tensorflow)＄"
   ]
  },
  {
   "cell_type": "markdown",
   "metadata": {},
   "source": [
    "3) When you are done using TensorFlow, you may deactivate the environment  \n",
    " - Linux / Mac OS\n",
    "> deactivate "
   ]
  }
 ],
 "metadata": {
  "kernelspec": {
   "display_name": "Python 3",
   "language": "python",
   "name": "python3"
  },
  "language_info": {
   "codemirror_mode": {
    "name": "ipython",
    "version": 3
   },
   "file_extension": ".py",
   "mimetype": "text/x-python",
   "name": "python",
   "nbconvert_exporter": "python",
   "pygments_lexer": "ipython3",
   "version": "3.6.0"
  }
 },
 "nbformat": 4,
 "nbformat_minor": 2
}
